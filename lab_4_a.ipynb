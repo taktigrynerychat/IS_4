{
 "cells": [
  {
   "cell_type": "code",
   "execution_count": 2,
   "metadata": {},
   "outputs": [],
   "source": [
    "import itertools\n",
    "import datetime"
   ]
  },
  {
   "cell_type": "markdown",
   "metadata": {},
   "source": [
    "## Task 1. Квадраты всех четных чисел (используя map и filter)"
   ]
  },
  {
   "cell_type": "code",
   "execution_count": 11,
   "metadata": {},
   "outputs": [
    {
     "name": "stdout",
     "output_type": "stream",
     "text": [
      "квадраты четных чисел в заданной последовательности: [4, 16, 36, 64, 100, 144, 196, 256, 324]\n"
     ]
    }
   ],
   "source": [
    "a = range(1,20)\n",
    "\n",
    "def task_1(arr):\n",
    "    return list(map(lambda x: x**2, list(filter(lambda x : x % 2 == 0, arr))))\n",
    "\n",
    "res = task_1(a)\n",
    "print('квадраты четных чисел в заданной последовательности: ' + str(res))"
   ]
  },
  {
   "cell_type": "markdown",
   "metadata": {},
   "source": [
    "## Task 2. Дана входная строка и массив чисел, необходимо вернуть строкус теми буквами, которые стоят на указанных местах (два варианта, используя и не используя list comprehensions)"
   ]
  },
  {
   "cell_type": "code",
   "execution_count": 8,
   "metadata": {},
   "outputs": [
    {
     "name": "stdout",
     "output_type": "stream",
     "text": [
      "без list comprehensions: Home\n",
      "с list comprehensions: Home\n"
     ]
    }
   ],
   "source": [
    "input_string = 'Hello my name is Vlad!'\n",
    "index_arr = [0,4,6,12]\n",
    "\n",
    "def task_2_a(string, index_arr):#без list comprehensions\n",
    "    result = ''\n",
    "    for index in index_arr:\n",
    "        try:\n",
    "            result+=string[index]\n",
    "        except IndexError:\n",
    "            print(str(index) + ' - index out of range')\n",
    "    return result\n",
    "        \n",
    "        \n",
    "def task_2_b(string, index_arr):#list comprehensions\n",
    "    return ''.join([string[ind] for ind in index_arr])\n",
    "        \n",
    "res_a = task_2_a(input_string, index_arr) \n",
    "res_b = task_2_b(input_string, index_arr) \n",
    "print('без list comprehensions: ' + res_a)\n",
    "print('с list comprehensions: ' + res_b)"
   ]
  },
  {
   "cell_type": "markdown",
   "metadata": {},
   "source": [
    "## Task 3. Дан текст (предложения разделены только точками), в котором буквы могут находиться в разных регистрах. Необходимо вернуть текст, в котором все буквы в нижнем регистре, а первые буквы каждого предложения – в верхнем. Пользоваться можно встроенными функциями строки (кроме capitalize :D), всеми изученными в этой теме функциями и модулем itertools."
   ]
  },
  {
   "cell_type": "code",
   "execution_count": 10,
   "metadata": {},
   "outputs": [
    {
     "name": "stdout",
     "output_type": "stream",
     "text": [
      "получившийся текст: \n",
      "Hello. The weather today is so awesome. I will go to walk in an hour. Lets go with me\n"
     ]
    }
   ],
   "source": [
    "text = 'HELlo. tHe weather tOdAy iS so aWeSome. i Will gO to walk in an hour. LETs go wItH me'\n",
    "\n",
    "def task_3(text):\n",
    "    result = []\n",
    "    sentence_arr = text.split('.')\n",
    "    for sentence in sentence_arr:\n",
    "        sentence = sentence.strip()\n",
    "        result.append(sentence[0].upper() + sentence[1:].lower())\n",
    "    return '. '.join(result)\n",
    "\n",
    "res = task_3(text)\n",
    "print('получившийся текст: ')\n",
    "print(res)"
   ]
  },
  {
   "cell_type": "markdown",
   "metadata": {},
   "source": [
    "## Task 4. functools.reduce"
   ]
  },
  {
   "cell_type": "code",
   "execution_count": 12,
   "metadata": {},
   "outputs": [
    {
     "name": "stdout",
     "output_type": "stream",
     "text": [
      "результат: 15\n"
     ]
    }
   ],
   "source": [
    "def task_4(function, iterable, initializer = None):\n",
    "    iterator = iter(iterable)\n",
    "    prev_value = initializer\n",
    "    \n",
    "    if (initializer == None):\n",
    "        prev_value = next(iterator)\n",
    "    \n",
    "    for value in iterator:\n",
    "        prev_value = function(prev_value, value)\n",
    "    \n",
    "    return prev_value\n",
    "\n",
    "res = task_4(lambda x, y: x+y, [1, 2, 3, 4, 5])\n",
    "print('результат: ' + str(res))"
   ]
  },
  {
   "cell_type": "markdown",
   "metadata": {},
   "source": [
    "## Task 5. Создайте функцию pipeline_each, в которую вы будете подавать итерируемый объект и список функций, которые последовательно надо к нему применить."
   ]
  },
  {
   "cell_type": "code",
   "execution_count": 13,
   "metadata": {},
   "outputs": [
    {
     "name": "stdout",
     "output_type": "stream",
     "text": [
      "результат: \n",
      "объект:1\n",
      "объект:1\n",
      "объект:4\n",
      "объект:4\n",
      "объект:9\n",
      "объект:9\n",
      "объект:16\n",
      "объект:16\n",
      "объект:25\n",
      "объект:25\n"
     ]
    }
   ],
   "source": [
    "def pipeline_each(functions, iterable):\n",
    "    for value in iterable:\n",
    "        yield pipeline(functions, value)\n",
    "        \n",
    "def pipeline(functions, value):\n",
    "    for function in functions:\n",
    "        value = function(value)\n",
    "    return value\n",
    "        \n",
    "functions = [\n",
    "    lambda x: x + 2,\n",
    "    lambda x: x // 2,\n",
    "    lambda x: x ** 2,\n",
    "    lambda x: 'объект:' + str(x)\n",
    "]\n",
    "values = range(10)\n",
    "print('результат: ')\n",
    "for value in pipeline_each(functions, values):\n",
    "    print(value)"
   ]
  },
  {
   "cell_type": "markdown",
   "metadata": {},
   "source": [
    "## Task 6. Написать генератор, возвращающий по очереди все слова, входящие в предложение"
   ]
  },
  {
   "cell_type": "code",
   "execution_count": 15,
   "metadata": {},
   "outputs": [
    {
     "name": "stdout",
     "output_type": "stream",
     "text": [
      "результат: \n",
      "Hello\n",
      "my\n",
      "name\n",
      "is\n",
      "Vlad\n",
      "and\n",
      "i\n",
      "like\n",
      "to\n",
      "code\n",
      "on\n",
      "python\n"
     ]
    }
   ],
   "source": [
    "def task_6(text):\n",
    "    text = text.split(' ')\n",
    "    for word in text:\n",
    "        yield word\n",
    "    \n",
    "text = 'Hello my name is Vlad and i like to code on python'\n",
    "print('результат: ')\n",
    "for word in task_6(text):\n",
    "    print(word)"
   ]
  },
  {
   "cell_type": "markdown",
   "metadata": {},
   "source": [
    "## Task 7. Написать генератор псевдо случайных чисел\n"
   ]
  },
  {
   "cell_type": "code",
   "execution_count": 16,
   "metadata": {},
   "outputs": [
    {
     "name": "stdout",
     "output_type": "stream",
     "text": [
      "5 случайных чисел без установленного seed:\n",
      "6802\n",
      "28613\n",
      "28248\n",
      "8779\n",
      "6046\n",
      "\n",
      "5 случайных чисел с установленным seed:\n",
      "18072\n",
      "17035\n",
      "32734\n",
      "2705\n",
      "28324\n"
     ]
    }
   ],
   "source": [
    "def task_7 (seed = None):\n",
    "    if (seed == None):\n",
    "        seed = datetime.datetime.now().microsecond\n",
    "    while True:\n",
    "        seed = (8253729 * seed + 2396403) % 32768;\n",
    "        yield seed\n",
    "\n",
    "\n",
    "print('5 случайных чисел без установленного seed:')\n",
    "res_a = task_7()\n",
    "for num in itertools.islice(res_a, 5):\n",
    "    print(num)\n",
    "print('')\n",
    "\n",
    "print('5 случайных чисел с установленным seed:')\n",
    "res_b = task_7(5)\n",
    "for num in itertools.islice(res_b, 5):\n",
    "    print(num)\n",
    "    "
   ]
  },
  {
   "cell_type": "markdown",
   "metadata": {},
   "source": [
    "## Task 8. Написать корутину, которая реализует бесконечную арифметическую прогрессию с возможностью перезапуска с любого места (3, 4, 5, 6, send(30), 31, 32, 33, …)"
   ]
  },
  {
   "cell_type": "code",
   "execution_count": 17,
   "metadata": {},
   "outputs": [
    {
     "name": "stdout",
     "output_type": "stream",
     "text": [
      "результат: \n",
      "num = 0\n",
      "num = 1\n",
      "num = 101\n",
      "num = 102\n",
      "num = 1\n",
      "num = 2\n"
     ]
    }
   ],
   "source": [
    "def task_8():\n",
    "    current_number = 0\n",
    "    while True:\n",
    "        input_number = yield current_number\n",
    "        if (input_number != None):current_number = input_number\n",
    "        current_number += 1\n",
    "        \n",
    "print('результат: ')      \n",
    "enum = task_8()\n",
    "print('num = ' + str(next(enum)))\n",
    "print('num = ' + str(next(enum)))\n",
    "print('num = ' + str(enum.send(100)))\n",
    "print('num = ' + str(next(enum)))\n",
    "print('num = ' + str(enum.send(0)))\n",
    "print('num = ' + str(next(enum)))"
   ]
  },
  {
   "cell_type": "code",
   "execution_count": null,
   "metadata": {},
   "outputs": [],
   "source": []
  }
 ],
 "metadata": {
  "kernelspec": {
   "display_name": "Python 3",
   "language": "python",
   "name": "python3"
  },
  "language_info": {
   "codemirror_mode": {
    "name": "ipython",
    "version": 3
   },
   "file_extension": ".py",
   "mimetype": "text/x-python",
   "name": "python",
   "nbconvert_exporter": "python",
   "pygments_lexer": "ipython3",
   "version": "3.7.4"
  }
 },
 "nbformat": 4,
 "nbformat_minor": 2
}
