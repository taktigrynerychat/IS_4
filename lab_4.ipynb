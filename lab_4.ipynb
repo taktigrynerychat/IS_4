{
 "cells": [
  {
   "cell_type": "code",
   "execution_count": 37,
   "metadata": {},
   "outputs": [],
   "source": [
    "from IPython.core.display import display, HTML\n",
    "import itertools\n",
    "import datetime"
   ]
  },
  {
   "cell_type": "markdown",
   "metadata": {},
   "source": [
    "## Task 1. Квадраты всех четных чисел (используя map и filter)"
   ]
  },
  {
   "cell_type": "code",
   "execution_count": 123,
   "metadata": {},
   "outputs": [
    {
     "data": {
      "text/html": [
       "<h3><u>квадраты четных чисел в заданной последовательности:</u></h3>[4, 16, 36, 64, 100, 144, 196, 256, 324]"
      ],
      "text/plain": [
       "<IPython.core.display.HTML object>"
      ]
     },
     "metadata": {},
     "output_type": "display_data"
    }
   ],
   "source": [
    "a = range(1,20)\n",
    "\n",
    "def task_1(arr):\n",
    "    return list(map(lambda x: x**2, list(filter(lambda x : x % 2 == 0, arr))))\n",
    "\n",
    "res = task_1(a)\n",
    "display(HTML('<h3><u>квадраты четных чисел в заданной последовательности:</u></h3>'+ str(res)))"
   ]
  },
  {
   "cell_type": "markdown",
   "metadata": {},
   "source": [
    "## Task 2. Дана входная строка и массив чисел, необходимо вернуть строкус теми буквами, которые стоят на указанных местах (два варианта, используя и не используя list comprehensions)"
   ]
  },
  {
   "cell_type": "code",
   "execution_count": 124,
   "metadata": {},
   "outputs": [
    {
     "data": {
      "text/html": [
       "<h3><u>без list comprehensions:</u></h3>Home"
      ],
      "text/plain": [
       "<IPython.core.display.HTML object>"
      ]
     },
     "metadata": {},
     "output_type": "display_data"
    },
    {
     "data": {
      "text/html": [
       "<h3><u>с list comprehensions:</u></h3>Home"
      ],
      "text/plain": [
       "<IPython.core.display.HTML object>"
      ]
     },
     "metadata": {},
     "output_type": "display_data"
    }
   ],
   "source": [
    "input_string = 'Hello my name is Vlad!'\n",
    "index_arr = [0,4,6,12]\n",
    "\n",
    "def task_2_a(string, index_arr):#без list comprehensions\n",
    "    result = ''\n",
    "    for index in index_arr:\n",
    "        try:\n",
    "            result+=string[index]\n",
    "        except IndexError:\n",
    "            print(str(index) + ' - index out of range')\n",
    "    return result\n",
    "        \n",
    "        \n",
    "def task_2_b(string, index_arr):#list comprehensions\n",
    "    return ''.join([string[ind] for ind in index_arr])\n",
    "        \n",
    "res_a = task_2_a(input_string, index_arr) \n",
    "res_b = task_2_b(input_string, index_arr) \n",
    "display(HTML('<h3><u>без list comprehensions:</u></h3>' + res_a))\n",
    "display(HTML('<h3><u>с list comprehensions:</u></h3>' + res_b))"
   ]
  },
  {
   "cell_type": "markdown",
   "metadata": {},
   "source": [
    "## Task 3. Дан текст (предложения разделены только точками), в котором буквы могут находиться в разных регистрах. Необходимо вернуть текст, в котором все буквы в нижнем регистре, а первые буквы каждого предложения – в верхнем. Пользоваться можно встроенными функциями строки (кроме capitalize :D), всеми изученными в этой теме функциями и модулем itertools."
   ]
  },
  {
   "cell_type": "code",
   "execution_count": 125,
   "metadata": {},
   "outputs": [
    {
     "data": {
      "text/html": [
       "<h3><u>получившийся текст:</u></h3>Hello. The weather today is so awesome. I will go to walk in an hour. Lets go with me"
      ],
      "text/plain": [
       "<IPython.core.display.HTML object>"
      ]
     },
     "metadata": {},
     "output_type": "display_data"
    }
   ],
   "source": [
    "text = 'HELlo. tHe weather tOdAy iS so aWeSome. i Will gO to walk in an hour. LETs go wItH me'\n",
    "\n",
    "def task_3(text):\n",
    "    result = []\n",
    "    sentence_arr = text.split('.')\n",
    "    for sentence in sentence_arr:\n",
    "        sentence = sentence.strip()\n",
    "        result.append(sentence[0].upper() + sentence[1:].lower())\n",
    "    return '. '.join(result)\n",
    "\n",
    "res = task_3(text)\n",
    "display(HTML('<h3><u>получившийся текст:</u></h3>' + res))"
   ]
  },
  {
   "cell_type": "markdown",
   "metadata": {},
   "source": [
    "## Task 4. functools.reduce"
   ]
  },
  {
   "cell_type": "code",
   "execution_count": 38,
   "metadata": {},
   "outputs": [
    {
     "data": {
      "text/html": [
       "<h3><u>результат:</u></h3>15"
      ],
      "text/plain": [
       "<IPython.core.display.HTML object>"
      ]
     },
     "metadata": {},
     "output_type": "display_data"
    }
   ],
   "source": [
    "def task_4(function, iterable, initializer = None):\n",
    "    iterator = iter(iterable)\n",
    "    prev_value = initializer\n",
    "    \n",
    "    if (initializer == None):\n",
    "        prev_value = next(iterator)\n",
    "    \n",
    "    for value in iterator:\n",
    "        prev_value = function(prev_value, value)\n",
    "    \n",
    "    return prev_value\n",
    "\n",
    "res = task_4(lambda x, y: x+y, [1, 2, 3, 4, 5])\n",
    "display(HTML('<h3><u>результат:</u></h3>' + str(res)))"
   ]
  },
  {
   "cell_type": "markdown",
   "metadata": {},
   "source": [
    "## Task 5. Создайте функцию pipeline_each, в которую вы будете подавать итерируемый объект и список функций, которые последовательно надо к нему применить."
   ]
  },
  {
   "cell_type": "code",
   "execution_count": 39,
   "metadata": {},
   "outputs": [
    {
     "data": {
      "text/html": [
       "<h3><u>результат:</u></h3>объект:1<br>объект:1<br>объект:4<br>объект:4<br>объект:9<br>объект:9<br>объект:16<br>объект:16<br>объект:25<br>объект:25<br>"
      ],
      "text/plain": [
       "<IPython.core.display.HTML object>"
      ]
     },
     "metadata": {},
     "output_type": "display_data"
    }
   ],
   "source": [
    "def pipeline_each(functions, iterable):\n",
    "    for value in iterable:\n",
    "        yield pipeline(functions, value)\n",
    "        \n",
    "def pipeline(functions, value):\n",
    "    for function in functions:\n",
    "        value = function(value)\n",
    "    return value\n",
    "        \n",
    "functions = [\n",
    "    lambda x: x + 2,\n",
    "    lambda x: x // 2,\n",
    "    lambda x: x ** 2,\n",
    "    lambda x: 'объект:' + str(x)\n",
    "]\n",
    "values = range(10)\n",
    "res = ''\n",
    "for value in pipeline_each(functions, values):\n",
    "    res += value + '<br>'\n",
    "display(HTML('<h3><u>результат:</u></h3>' + res))"
   ]
  },
  {
   "cell_type": "markdown",
   "metadata": {},
   "source": [
    "## Task 6. Написать генератор, возвращающий по очереди все слова, входящие в предложение"
   ]
  },
  {
   "cell_type": "code",
   "execution_count": 40,
   "metadata": {},
   "outputs": [
    {
     "data": {
      "text/html": [
       "<h3><u>результат:</u></h3>Hello<br>my<br>name<br>is<br>Vlad<br>and<br>i<br>like<br>to<br>code<br>on<br>python<br>"
      ],
      "text/plain": [
       "<IPython.core.display.HTML object>"
      ]
     },
     "metadata": {},
     "output_type": "display_data"
    }
   ],
   "source": [
    "def task_6(text):\n",
    "    text = text.split(' ')\n",
    "    for word in text:\n",
    "        yield word\n",
    "    \n",
    "text = 'Hello my name is Vlad and i like to code on python'\n",
    "res = ''\n",
    "for word in task_6(text):\n",
    "    res += word + '<br>'\n",
    "display(HTML('<h3><u>результат:</u></h3>' + res))"
   ]
  },
  {
   "cell_type": "markdown",
   "metadata": {},
   "source": [
    "## Task 7. Написать генератор псевдо случайных чисел\n"
   ]
  },
  {
   "cell_type": "code",
   "execution_count": 42,
   "metadata": {},
   "outputs": [
    {
     "data": {
      "text/html": [
       "<h3><u>5 случайных чисел без установленного seed:</u></h3>"
      ],
      "text/plain": [
       "<IPython.core.display.HTML object>"
      ]
     },
     "metadata": {},
     "output_type": "display_data"
    },
    {
     "name": "stdout",
     "output_type": "stream",
     "text": [
      "17479\n",
      "13594\n",
      "25421\n",
      "23264\n",
      "10195\n"
     ]
    },
    {
     "data": {
      "text/html": [
       "<h3><u>5 случайных чисел с установленным seed:</u></h3>"
      ],
      "text/plain": [
       "<IPython.core.display.HTML object>"
      ]
     },
     "metadata": {},
     "output_type": "display_data"
    },
    {
     "name": "stdout",
     "output_type": "stream",
     "text": [
      "18072\n",
      "17035\n",
      "32734\n",
      "2705\n",
      "28324\n"
     ]
    }
   ],
   "source": [
    "def task_7 (seed = None):\n",
    "    if (seed == None):\n",
    "        seed = datetime.datetime.now().microsecond\n",
    "    while True:\n",
    "        seed = (8253729 * seed + 2396403) % 32768;\n",
    "        yield seed\n",
    "\n",
    "\n",
    "display(HTML('<h3><u>5 случайных чисел без установленного seed:</u></h3>'))\n",
    "res_a = task_7()\n",
    "for num in itertools.islice(res_a, 5):\n",
    "    print(num)\n",
    "\n",
    "display(HTML('<h3><u>5 случайных чисел с установленным seed:</u></h3>'))\n",
    "res_b = task_7(5)\n",
    "for num in itertools.islice(res_b, 5):\n",
    "    print(num)\n",
    "    "
   ]
  },
  {
   "cell_type": "markdown",
   "metadata": {},
   "source": [
    "## Task 8. Написать корутину, которая реализует бесконечную арифметическую прогрессию с возможностью перезапуска с любого места (3, 4, 5, 6, send(30), 31, 32, 33, …)"
   ]
  },
  {
   "cell_type": "code",
   "execution_count": 54,
   "metadata": {},
   "outputs": [
    {
     "data": {
      "text/html": [
       "<h3><u>результат:</u></h3>"
      ],
      "text/plain": [
       "<IPython.core.display.HTML object>"
      ]
     },
     "metadata": {},
     "output_type": "display_data"
    },
    {
     "name": "stdout",
     "output_type": "stream",
     "text": [
      "num = 0\n",
      "num = 1\n",
      "num = 101\n",
      "num = 102\n",
      "num = 1\n",
      "num = 2\n"
     ]
    }
   ],
   "source": [
    "def task_8():\n",
    "    current_number = 0\n",
    "    while True:\n",
    "        input_number = yield current_number\n",
    "        if (input_number != None):current_number = input_number\n",
    "        current_number += 1\n",
    "        \n",
    "display(HTML('<h3><u>результат:</u></h3>'))        \n",
    "enum = task_8()\n",
    "print('num = ' + str(next(enum)))\n",
    "print('num = ' + str(next(enum)))\n",
    "print('num = ' + str(enum.send(100)))\n",
    "print('num = ' + str(next(enum)))\n",
    "print('num = ' + str(enum.send(0)))\n",
    "print('num = ' + str(next(enum)))"
   ]
  },
  {
   "cell_type": "code",
   "execution_count": null,
   "metadata": {},
   "outputs": [],
   "source": []
  }
 ],
 "metadata": {
  "kernelspec": {
   "display_name": "Python 3",
   "language": "python",
   "name": "python3"
  },
  "language_info": {
   "codemirror_mode": {
    "name": "ipython",
    "version": 3
   },
   "file_extension": ".py",
   "mimetype": "text/x-python",
   "name": "python",
   "nbconvert_exporter": "python",
   "pygments_lexer": "ipython3",
   "version": "3.7.4"
  }
 },
 "nbformat": 4,
 "nbformat_minor": 2
}
